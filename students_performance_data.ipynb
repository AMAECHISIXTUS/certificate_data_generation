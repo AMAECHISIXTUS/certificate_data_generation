{
 "cells": [
  {
   "cell_type": "code",
   "execution_count": 2,
   "metadata": {},
   "outputs": [],
   "source": [
    "import numpy as np\n",
    "import os \n",
    "import pandas as pd\n",
    "import random"
   ]
  },
  {
   "cell_type": "code",
   "execution_count": 3,
   "metadata": {},
   "outputs": [],
   "source": [
    "# data format\n",
    "# reg no | department | faculty | year 1 GP | year 2 GP | year 3 GP | year 4 GP | year 5 CGPA\n"
   ]
  },
  {
   "cell_type": "code",
   "execution_count": 28,
   "metadata": {},
   "outputs": [],
   "source": [
    "schools = ['School of Agriculture And Agricultural Technology (SAAT)',\n",
    "           'School of Health Technology (SOHT)',\n",
    "           'School of Basic Medical Science (SBMS)',\n",
    "           'School of Information and Communication Technology (SICT)',\n",
    "           'School of Biological Science (SOBS)',\n",
    "           'School of Management Technology (SMAT)',\n",
    "           'School of Engineering and Engineering Technology (SEET)',\n",
    "           'School of Physical Science (SOPS)',\n",
    "           'School of Electrical Systems Engineering Technology (SESET)',\n",
    "           'School of Environmental Science (SOES)']\n",
    "\n",
    "school_department_map = {\n",
    "    'School of Agriculture And Agricultural Technology (SAAT)':[\n",
    "        'Agricultural Economics',\n",
    "        'Agricultural Extension',\n",
    "        'Animal Science and Technology',\n",
    "        'Crop Science and Technology',\n",
    "        'Fisheries and Aquaculture Technology',\n",
    "        'Forestry and Wildlife Technology',\n",
    "        'Soil Science and Technology'\n",
    "    ],\n",
    "    'School of Health Technology (SOHT)':[\n",
    "        'Biomedical Technology',\n",
    "        'Dental Technology',\n",
    "        'Environmental Health Science',\n",
    "         'Optometry',\n",
    "         'Prosthetics and Orthotics',\n",
    "         'Public Health Technology'\n",
    "    ],\n",
    "    'School of Basic Medical Science (SBMS)':[\n",
    "        'School of Basic Medical Science',\n",
    "        \n",
    "    ],\n",
    "     'School of Information and Communication Technology (SICT)':[\n",
    "         'Computer Science',\n",
    "         'Cyber Security',\n",
    "         'Information Technology',\n",
    "         'Software Engineering'\n",
    "     ],\n",
    "     'School of Biological Science (SOBS)':[\n",
    "         'Biochemistry',\n",
    "         'Biology',\n",
    "         'Biotechnology',\n",
    "         'Microbiology',\n",
    "         'Forensic Science'\n",
    "     ],\n",
    "     'School of Management Technology (SMAT)':[\n",
    "         'Financial Management Technology',\n",
    "         'Management Technology',\n",
    "         'Maritime Management Technology',\n",
    "         'Project Management Technology',\n",
    "         'Transport Management Technology'\n",
    "     ],\n",
    "     'School of Engineering and Engineering Technology (SEET)':[\n",
    "         'Agricultural and Bio resources Engineering',\n",
    "         'Chemical Engineering',\n",
    "          'Civil Engineering',\n",
    "          'Electrical and Electronics Engineering',\n",
    "          'Food Science and technology',\n",
    "          'Material and Matallurgical Engineering',\n",
    "          'Mechanical Engineering',\n",
    "          'Petroleum Engineering',\n",
    "          'Polymer and Textile Engineering',\n",
    "     ],\n",
    "     'School of Electrical Systems Engineering Technology (SESET)':[\n",
    "         'School of Electrical Systems Engineering Technology (SESET)'\n",
    "     ],\n",
    "     'School of Environmental Science (SOES)':[\n",
    "         'Architecture',\n",
    "         'Building Technology',\n",
    "         'Environmental Technology',\n",
    "         'Quantity Surveying',\n",
    "         'Surveying and Geoinformatics',\n",
    "         'Urban and Regional Planning'\n",
    "     ],\n",
    "     'School of Physical Science (SOPS)':[\n",
    "         'Chemistry',\n",
    "         'Geology',\n",
    "         'Mathematics',\n",
    "         'Physics',\n",
    "         'Science Laboratory Technology',\n",
    "         'Statistics'\n",
    "     ]\n",
    "}"
   ]
  },
  {
   "cell_type": "code",
   "execution_count": 29,
   "metadata": {},
   "outputs": [],
   "source": [
    "def choose_randomly(lst):\n",
    "    return random.choice(lst)"
   ]
  },
  {
   "cell_type": "code",
   "execution_count": 30,
   "metadata": {},
   "outputs": [],
   "source": [
    "def generate_random_gp():\n",
    "    return round(random.uniform(1.0, 5.0), 2)\n"
   ]
  },
  {
   "cell_type": "code",
   "execution_count": 31,
   "metadata": {},
   "outputs": [],
   "source": [
    "def generate_random_integer(min_val, max_val):\n",
    "    return random.randint(min_val, max_val)\n",
    "# def\n",
    "def generate_random_reg_no():\n",
    "    # random year between 2000 to 2022\n",
    "    year = generate_random_integer(2000,2022)\n",
    "    main_id = generate_random_integer(1000000,1200000)\n",
    "    reg_no = str(year) + str(main_id)\n",
    "    return reg_no\n"
   ]
  },
  {
   "cell_type": "code",
   "execution_count": 22,
   "metadata": {},
   "outputs": [],
   "source": [
    "cgpa = []\n",
    "faculty = []\n",
    "grade = []\n",
    "department = []\n",
    "reg_no = []\n",
    "year1gp = []\n",
    "year2gp = []\n",
    "year3gp = []\n",
    "year4gp = []\n",
    "year5gp = []\n",
    "# generate the records for each student\n",
    "# data format\n",
    "# reg no | department | faculty | year 1 GP | year 2 GP | year 3 GP | year 4 GP | year 5 GP | CGPA\n",
    "\n",
    "for i in range(1,150):\n",
    "    # get a random reg no\n",
    "    reg_no.append(generate_random_reg_no())\n",
    "    # randomly select a faculty\n",
    "    fclty = choose_randomly(schools)\n",
    "    # get the departments from the randomly selected and randomly select a department\n",
    "    dept = choose_randomly(school_department_map[fclty])\n",
    "    # year 1 GP\n",
    "    y1gp = generate_random_gp()\n",
    "    # year 2 GP\n",
    "    y2gp = generate_random_gp()\n",
    "    # year 3 GP\n",
    "    y3gp = generate_random_gp()\n",
    "    # year 4 GP\n",
    "    y4gp = generate_random_gp()\n",
    "    # year 5 GP\n",
    "    y5gp = generate_random_gp()\n",
    "    # CGPA\n",
    "    cgp = (y1gp + y2gp + y3gp + y4gp + y5gp)/5\n",
    "    year1gp.append(y1gp)\n",
    "    year2gp.append(y2gp)\n",
    "    year3gp.append(y3gp)\n",
    "    year4gp.append(y4gp)\n",
    "    year5gp.append(y5gp)\n",
    "    cgpa.append(cgp)\n",
    "    faculty.append(fclty)\n",
    "    department.append(dept)\n",
    "    \n",
    "    \n"
   ]
  },
  {
   "cell_type": "code",
   "execution_count": 34,
   "metadata": {},
   "outputs": [],
   "source": [
    "data = {\n",
    "    'REGNO':reg_no,\n",
    "    'Department':department,\n",
    "    'School':faculty,\n",
    "    'YEAR 1 CGPA':year1gp,\n",
    "    'YEAR 2 CGPA':year2gp,\n",
    "    'YEAR 3 CGPA':year3gp,\n",
    "    'YEAR 4 CGPA':year4gp,\n",
    "    'YEAR 5 CGPA':year5gp,\n",
    "    'CGPA':cgpa,\n",
    "}"
   ]
  },
  {
   "cell_type": "code",
   "execution_count": 35,
   "metadata": {},
   "outputs": [],
   "source": [
    "df = pd.DataFrame(data)"
   ]
  },
  {
   "cell_type": "code",
   "execution_count": 36,
   "metadata": {},
   "outputs": [],
   "source": [
    "df.to_csv('futo_students_perfomance_data.csv',index=False)"
   ]
  },
  {
   "cell_type": "code",
   "execution_count": null,
   "metadata": {},
   "outputs": [],
   "source": []
  }
 ],
 "metadata": {
  "kernelspec": {
   "display_name": "lenv",
   "language": "python",
   "name": "python3"
  },
  "language_info": {
   "codemirror_mode": {
    "name": "ipython",
    "version": 3
   },
   "file_extension": ".py",
   "mimetype": "text/x-python",
   "name": "python",
   "nbconvert_exporter": "python",
   "pygments_lexer": "ipython3",
   "version": "3.10.0"
  },
  "orig_nbformat": 4
 },
 "nbformat": 4,
 "nbformat_minor": 2
}
