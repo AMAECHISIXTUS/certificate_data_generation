{
 "cells": [
  {
   "cell_type": "code",
   "execution_count": 3,
   "metadata": {},
   "outputs": [],
   "source": [
    "import numpy as np\n",
    "import os \n",
    "import pandas as pd\n",
    "import random"
   ]
  },
  {
   "cell_type": "code",
   "execution_count": 13,
   "metadata": {},
   "outputs": [],
   "source": [
    "schools = ['School of Agriculture And Agricultural Technology (SAAT)',\n",
    "           'School of Health Technology (SOHT)',\n",
    "           'School of Basic Medical Science (SBMS)',\n",
    "           'School of Information and Communication Technology (SICT)',\n",
    "           'School of Biological Science (SOBS)',\n",
    "           'School of Management Technology (SMAT)',\n",
    "           'School of Engineering and Engineering Technology (SEET)',\n",
    "           'School of Physical Science (SOPS)',\n",
    "           'School of Electrical Systems Engineering Technology (SESET)',\n",
    "           'School of Environmental Science (SOES)']\n",
    "\n",
    "school_department_map = {\n",
    "    'School of Agriculture And Agricultural Technology (SAAT)':[\n",
    "        'Agricultural Economics',\n",
    "        'Agricultural Extension',\n",
    "        'Animal Science and Technology',\n",
    "        'Crop Science and Technology',\n",
    "        'Fisheries and Aquaculture Technology',\n",
    "        'Forestry and Wildlife Technology',\n",
    "        'Soil Science and Technology'\n",
    "    ],\n",
    "    'School of Health Technology (SOHT)':[\n",
    "        'Biomedical Technology',\n",
    "        'Dental Technology',\n",
    "        'Environmental Health Science',\n",
    "         'Optometry',\n",
    "         'Prosthetics and Orthotics',\n",
    "         'Public Health Technology'\n",
    "    ],\n",
    "    'School of Basic Medical Science (SBMS)':[\n",
    "        'School of Basic Medical Science',\n",
    "        \n",
    "    ],\n",
    "     'School of Information and Communication Technology (SICT)':[\n",
    "         'Computer Science',\n",
    "         'Cyber Security',\n",
    "         'Information Technology',\n",
    "         'Software Engineering'\n",
    "     ],\n",
    "     'School of Biological Science (SOBS)':[\n",
    "         'Biochemistry',\n",
    "         'Biology',\n",
    "         'Biotechnology',\n",
    "         'Microbiology',\n",
    "         'Forensic Science'\n",
    "     ],\n",
    "     'School of Management Technology (SMAT)':[\n",
    "         'Financial Management Technology',\n",
    "         'Management Technology',\n",
    "         'Maritime Management Technology',\n",
    "         'Project Management Technology',\n",
    "         'Transport Management Technology'\n",
    "     ],\n",
    "     'School of Engineering and Engineering Technology (SEET)':[\n",
    "         'Agricultural and Bio resources Engineering',\n",
    "         'Chemical Engineering',\n",
    "          'Civil Engineering',\n",
    "          'Electrical and Electronics Engineering',\n",
    "          'Food Science and technology',\n",
    "          'Material and Matallurgical Engineering',\n",
    "          'Mechanical Engineering',\n",
    "          'Petroleum Engineering',\n",
    "          'Polymer and Textile Engineering',\n",
    "     ],\n",
    "     'School of Electrical Systems Engineering Technology (SESET)':[\n",
    "         'School of Electrical Systems Engineering Technology (SESET)'\n",
    "     ],\n",
    "     'School of Environmental Science (SOES)':[\n",
    "         'Architecture',\n",
    "         'Building Technology',\n",
    "         'Environmental Technology',\n",
    "         'Quantity Surveying',\n",
    "         'Surveying and Geoinformatics',\n",
    "         'Urban and Regional Planning'\n",
    "     ],\n",
    "     'School of Physical Science (SOPS)':[\n",
    "         'Chemistry',\n",
    "         'Geology',\n",
    "         'Mathematics',\n",
    "         'Physics',\n",
    "         'Science Laboratory Technology',\n",
    "         'Statistics'\n",
    "     ]\n",
    "}"
   ]
  },
  {
   "cell_type": "code",
   "execution_count": 5,
   "metadata": {},
   "outputs": [],
   "source": [
    "def choose_randomly(lst):\n",
    "    return random.choice(lst)"
   ]
  },
  {
   "cell_type": "code",
   "execution_count": 16,
   "metadata": {},
   "outputs": [],
   "source": [
    "def generate_random_cgpa():\n",
    "    return round(random.uniform(0.0, 5.0), 2)\n"
   ]
  },
  {
   "cell_type": "code",
   "execution_count": 34,
   "metadata": {},
   "outputs": [],
   "source": [
    "def generate_random_integer(min_val, max_val):\n",
    "    return random.randint(min_val, max_val)\n",
    "# def\n",
    "def generate_random_reg_no():\n",
    "    # random year between 2000 to 2022\n",
    "    year = generate_random_integer(2000,2022)\n",
    "    main_id = generate_random_integer(1000000,1200000)\n",
    "    reg_no = str(year) + str(main_id)\n",
    "    return reg_no\n"
   ]
  },
  {
   "cell_type": "code",
   "execution_count": 37,
   "metadata": {},
   "outputs": [
    {
     "name": "stdout",
     "output_type": "stream",
     "text": [
      "GENERATED 106 REG NO\n",
      "GENERATED 106 CGPA\n",
      "GENERATED 106 GRADE\n",
      "GENERATED 106 FACULTY\n",
      "GENERATED 106 DEPARTMENT\n"
     ]
    }
   ],
   "source": [
    "cgpa = []\n",
    "faculty = []\n",
    "grade = []\n",
    "department = []\n",
    "school = []\n",
    "reg_no = []\n",
    "# make a loop that iterates 100 times and generates student certificate data\n",
    "for i in range(1 ,150):\n",
    "    # randomly select a faculty\n",
    "    fclty = choose_randomly(schools)\n",
    "    # get the departments from the randomly selected and randomly select a department\n",
    "    dept = choose_randomly(school_department_map[fclty])\n",
    "    # randomly generate a cgpa between  0.0 and 5.0\n",
    "    cgp = generate_random_cgpa()\n",
    "    # generate student reg no\n",
    "    student_reg_no = generate_random_reg_no()\n",
    "    # if cgpa is 4.5 above grade is first class \n",
    "    if cgp >= 4.50:\n",
    "        student_grade = 'FIRST CLASS'\n",
    "        cgpa.append(cgp)\n",
    "        grade.append(student_grade)\n",
    "        department.append(dept)\n",
    "        faculty.append(fclty)\n",
    "        reg_no.append(student_reg_no)\n",
    "        \n",
    "    # if cgpa between 3.5 and 4.49 grade is second class upper\n",
    "    elif cgp >= 3.5 and cgp <=4.49:\n",
    "        student_grade = 'SECOND CLASS UPPER'\n",
    "        cgpa.append(cgp)\n",
    "        grade.append(student_grade)\n",
    "        department.append(dept)\n",
    "        faculty.append(fclty)\n",
    "        reg_no.append(student_reg_no)\n",
    "    # if cgpa between 3.49 and 2.40 grade is second class loweer\n",
    "    elif cgp >= 2.40 and cgp <= 3.49:\n",
    "        student_grade = 'SECOND CLASS LOWER'\n",
    "        cgpa.append(cgp)\n",
    "        grade.append(student_grade)\n",
    "        department.append(dept)\n",
    "        faculty.append(fclty)\n",
    "        reg_no.append(student_reg_no) \n",
    "    # if cgpa between 2.39 and 1.50 grade is pass\n",
    "    elif cgp >= 1.50 and cgp >= 1.50:\n",
    "        student_grade = 'PASS'\n",
    "        cgpa.append(cgp)\n",
    "        grade.append(student_grade)\n",
    "        department.append(dept)\n",
    "        faculty.append(fclty)\n",
    "        reg_no.append(student_reg_no)\n",
    "    else:\n",
    "        student_grade = 'FAILURE'\n",
    "   \n",
    "    \n",
    "    # if cgpa below 1.50 no degree is below 1.50 no degree is awarded just don't add any thing to any of the four columns\n",
    "print(f'GENERATED {len(reg_no)} REG NO')\n",
    "print(f'GENERATED {len(cgpa)} CGPA')\n",
    "print(f'GENERATED {len(grade)} GRADE')\n",
    "print(f'GENERATED {len(faculty)} FACULTY')\n",
    "print(f'GENERATED {len(department)} DEPARTMENT')"
   ]
  },
  {
   "cell_type": "code",
   "execution_count": 38,
   "metadata": {},
   "outputs": [],
   "source": [
    "data = {\n",
    "    'REGNO':reg_no,\n",
    "    'CGPA':cgpa,\n",
    "    'GRADE':grade,\n",
    "    'faculty':faculty,\n",
    "    'Department': department,\n",
    "    \n",
    "}"
   ]
  },
  {
   "cell_type": "code",
   "execution_count": 39,
   "metadata": {},
   "outputs": [],
   "source": [
    "df = pd.DataFrame(data)"
   ]
  },
  {
   "cell_type": "code",
   "execution_count": 40,
   "metadata": {},
   "outputs": [],
   "source": [
    "df.to_csv('futo_students_certificates.csv',index=False)"
   ]
  },
  {
   "cell_type": "code",
   "execution_count": null,
   "metadata": {},
   "outputs": [],
   "source": []
  }
 ],
 "metadata": {
  "kernelspec": {
   "display_name": "lenv",
   "language": "python",
   "name": "python3"
  },
  "language_info": {
   "codemirror_mode": {
    "name": "ipython",
    "version": 3
   },
   "file_extension": ".py",
   "mimetype": "text/x-python",
   "name": "python",
   "nbconvert_exporter": "python",
   "pygments_lexer": "ipython3",
   "version": "3.10.0"
  },
  "orig_nbformat": 4
 },
 "nbformat": 4,
 "nbformat_minor": 2
}
